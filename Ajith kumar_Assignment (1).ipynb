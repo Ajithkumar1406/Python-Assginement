{
 "cells": [
  {
   "cell_type": "code",
   "execution_count": null,
   "id": "d749b240",
   "metadata": {},
   "outputs": [],
   "source": [
    "#1)Python\n",
    "#   Python is one of the most popular languages for business analytics today and continues to grow at an astonishing rate. \n",
    "#   It’s commonly considered one of the easier programming languages to read and learn—its programming syntax is simple and its commands mimic the English language.\n",
    "#   Use Python to make yield predictions and manage crop diseases and pests with the help of IoT technology."
   ]
  },
  {
   "cell_type": "code",
   "execution_count": 1,
   "id": "ee5bf186",
   "metadata": {},
   "outputs": [],
   "source": [
    "#2 CREATE A LOGIN FUNCTION"
   ]
  },
  {
   "cell_type": "code",
   "execution_count": 3,
   "id": "03a56f8f",
   "metadata": {},
   "outputs": [
    {
     "name": "stdout",
     "output_type": "stream",
     "text": [
      "login successful\n",
      "Welcome Ajith kumar\n",
      "I can operation like add sub mul div\n",
      "Enter the first value 34\n",
      "Enter the second value 89\n",
      "operation need mul\n",
      "3026\n"
     ]
    }
   ],
   "source": [
    "def add (num1,num2):\n",
    "    print (num1+num2)\n",
    "def sub (num1,num2):\n",
    "    print (num1-num2)\n",
    "def mul (num1,num2):\n",
    "    print (num1*num2)\n",
    "def div (num1,num2):\n",
    "    print (num1/num2)\n",
    "def cal():\n",
    "    num1=int(input(\"Enter the first value \"))\n",
    "    num2=int(input(\"Enter the second value \"))\n",
    "    oper=input(\"operation need \")\n",
    "    if(oper == \"add\"):\n",
    "        add(num1,num2)\n",
    "    if(oper == \"sub\"):\n",
    "        sub(num1,num2)\n",
    "    if(oper == \"mul\"):\n",
    "        mul(num1,num2)\n",
    "    if(oper == \"div\"):\n",
    "        div(num1,num2)\n",
    "def login(username,password):\n",
    "    if (username == \"Ajith kumar\" and password == \"password1\"):\n",
    "        print(\"login successful\")\n",
    "        print(\"Welcome\",username)\n",
    "        print(\"I can operation like add sub mul div\")\n",
    "        cal()\n",
    "    else:\n",
    "        print(\"Worng credentials\")\n",
    "login(\"Ajith kumar\",\"password1\")"
   ]
  },
  {
   "cell_type": "code",
   "execution_count": 4,
   "id": "e651bec1",
   "metadata": {},
   "outputs": [],
   "source": [
    "# 3)Write A Program to Find Even And Odd Numbers"
   ]
  },
  {
   "cell_type": "code",
   "execution_count": 10,
   "id": "f3b74090",
   "metadata": {},
   "outputs": [
    {
     "name": "stdout",
     "output_type": "stream",
     "text": [
      "Enter the number check whether it is Odd or Even84738\n",
      "The given number is an Even number\n"
     ]
    }
   ],
   "source": [
    "Number=int(input(\"Enter the number check whether it is Odd or Even\"))\n",
    "if(Number % 2)==0:\n",
    "   print(\"The given number is an Even number\")\n",
    "else:\n",
    "    print(\"The given number is an Odd number\")"
   ]
  },
  {
   "cell_type": "code",
   "execution_count": 7,
   "id": "a37259fc",
   "metadata": {},
   "outputs": [],
   "source": [
    "# 4)Create A List Of Fruits And Iterate Through Them"
   ]
  },
  {
   "cell_type": "code",
   "execution_count": 8,
   "id": "624bc5cb",
   "metadata": {},
   "outputs": [
    {
     "name": "stdout",
     "output_type": "stream",
     "text": [
      "Apple\n",
      "kiwi\n",
      "Mango\n",
      "Pomegranate\n"
     ]
    }
   ],
   "source": [
    "Fruits=[\"Apple\",\"kiwi\",\"Mango\",\"Pomegranate\"]\n",
    "for x in Fruits:\n",
    "    print(x)"
   ]
  }
 ],
 "metadata": {
  "kernelspec": {
   "display_name": "Python 3 (ipykernel)",
   "language": "python",
   "name": "python3"
  },
  "language_info": {
   "codemirror_mode": {
    "name": "ipython",
    "version": 3
   },
   "file_extension": ".py",
   "mimetype": "text/x-python",
   "name": "python",
   "nbconvert_exporter": "python",
   "pygments_lexer": "ipython3",
   "version": "3.9.7"
  }
 },
 "nbformat": 4,
 "nbformat_minor": 5
}
